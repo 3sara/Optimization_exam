{
 "cells": [
  {
   "cell_type": "code",
   "execution_count": 2,
   "metadata": {},
   "outputs": [],
   "source": [
    "import numpy as np\n",
    "import matplotlib.pyplot as plt\n",
    "import matplotlib.pyplot as plt\n",
    "import matplotlib.animation as animation"
   ]
  },
  {
   "cell_type": "code",
   "execution_count": 3,
   "metadata": {},
   "outputs": [],
   "source": [
    "def DisplayNlinkarm(links, angles):\n",
    "    #fix img size\n",
    "    fig = plt.figure()\n",
    "    ax = fig.add_subplot(111)\n",
    "    ax.set_aspect('equal')\n",
    "    #plot arm\n",
    "    trasf=np.eye(3)\n",
    "    x=[0]\n",
    "    y=[0]\n",
    "    for i in range(len(links)):\n",
    "        new_trasf=[[np.cos(angles[i]),-np.sin(angles[i]),links[i]*np.cos(angles[i])],\n",
    "                [np.sin(angles[i]),np.cos(angles[i]),links[i]*np.sin(angles[i])],\n",
    "                [0,0,1]]\n",
    "        trasf=np.dot(trasf,new_trasf)\n",
    "        x.append(np.dot(trasf,[0,0,1])[0])\n",
    "        y.append(np.dot(trasf,[0,0,1])[1])\n",
    "    plt.plot(x,y)\n",
    "    #plt.xlim(0,4)\n",
    "    #plt.ylim(0,4)\n",
    "    #show grid\n",
    "    plt.grid(True)\n",
    "    plt.show()  "
   ]
  },
  {
   "cell_type": "code",
   "execution_count": 4,
   "metadata": {},
   "outputs": [],
   "source": [
    "def compute_end_pos(links, angles):\n",
    "    pos=np.array([0,0,1])\n",
    "    for i in range(len(links)-1,-1,-1):\n",
    "        c=np.cos(angles[i])\n",
    "        s=np.sin(angles[i])\n",
    "        A=np.array([[c,-s,links[i]*c],[s,c,links[i]*s],[0,0,1]])\n",
    "        pos=np.dot(A, pos)\n",
    "    return pos[:2]"
   ]
  },
  {
   "cell_type": "code",
   "execution_count": 32,
   "metadata": {},
   "outputs": [],
   "source": [
    "def PSO(links, target, pop_size, max_iter, w, c_soc, c_cog):\n",
    "    #initialize\n",
    "    dim=len(links)\n",
    "    pop=np.random.rand(pop_size,dim)*2*np.pi\n",
    "    vel=np.zeros((pop_size,dim))\n",
    "    pbest=pop.copy()\n",
    "    pbest_fit=np.zeros(pop_size)\n",
    "    gbest=pop[0].copy()\n",
    "    gbest_fit=1e10\n",
    "    gbest_history=[]\n",
    "\n",
    "    #initialise pbest and gbest\n",
    "    for i in range(pop_size):\n",
    "        pbest_fit[i]=np.linalg.norm(compute_end_pos(links, pop[i])-target)\n",
    "        if pbest_fit[i]<gbest_fit:\n",
    "            gbest=pop[i].copy()\n",
    "            gbest_fit=pbest_fit[i]\n",
    "\n",
    "    #main loop\n",
    "    it=0\n",
    "    while it<max_iter:\n",
    "        it+=1\n",
    "        gbest_history.append(gbest.copy())\n",
    "        for i in range(pop_size):\n",
    "            end_pos = compute_end_pos(links, pop[i])\n",
    "            fit=np.linalg.norm(end_pos-target)\n",
    "\n",
    "            if fit<pbest_fit[i]:\n",
    "                pbest[i]=pop[i].copy()\n",
    "                pbest_fit[i]=fit\n",
    "                if fit<gbest_fit:\n",
    "                    gbest=pop[i].copy()\n",
    "                    gbest_fit=fit\n",
    "                if fit<1e-3:\n",
    "                    return gbest_history,gbest\n",
    "                \n",
    "            vel[i]=w*vel[i]+c_soc*np.random.rand()*(gbest-pop[i])+c_cog*np.random.rand()*(pbest[i]-pop[i])\n",
    "            pop[i]+=vel[i]      \n",
    "            \n",
    "    return gbest_history, gbest"
   ]
  },
  {
   "cell_type": "code",
   "execution_count": 65,
   "metadata": {},
   "outputs": [],
   "source": [
    "target = [3,4]\n",
    "links = [10,3,2,4]"
   ]
  },
  {
   "cell_type": "code",
   "execution_count": 66,
   "metadata": {},
   "outputs": [],
   "source": [
    "gbest_history, gbest = PSO(links, target, 100, 1000, 0.5, 0.5, 0.5)"
   ]
  },
  {
   "cell_type": "code",
   "execution_count": 67,
   "metadata": {},
   "outputs": [
    {
     "name": "stderr",
     "output_type": "stream",
     "text": [
      "MovieWriter ffmpeg unavailable; using Pillow instead.\n"
     ]
    },
    {
     "data": {
      "image/png": "[encoded data removed]",
      "text/plain": [
       "<Figure size 640x480 with 1 Axes>"
      ]
     },
     "metadata": {},
     "output_type": "display_data"
    }
   ],
   "source": [
    "# First set up the figure, the axis, and the plot element we want to animate\n",
    "fig = plt.figure()\n",
    "ax = plt.axes(xlim=(-10, 10), ylim=(-10, 10))\n",
    "line, = ax.plot([], [], lw=2)\n",
    "angles=gbest_history\n",
    "plt.plot(target[0], target[1],'ro')\n",
    "\n",
    "# initialization function: plot the background of each frame\n",
    "def init():\n",
    "    line.set_data([], [])\n",
    "    return line,\n",
    "\n",
    "# animation function.  This is called sequentially\n",
    "def animate(i):\n",
    "    trasf=np.eye(3)\n",
    "    x=[0]\n",
    "    y=[0]\n",
    "    for j in range(len(links)):\n",
    "        new_trasf=[[np.cos(angles[i][j]),-np.sin(angles[i][j]),links[j]*np.cos(angles[i][j])],\n",
    "                [np.sin(angles[i][j]),np.cos(angles[i][j]),links[j]*np.sin(angles[i][j])],\n",
    "                [0,0,1]]\n",
    "        trasf=np.dot(trasf,new_trasf)\n",
    "        x.append(np.dot(trasf,[0,0,1])[0])\n",
    "        y.append(np.dot(trasf,[0,0,1])[1])\n",
    "    line.set_data(x, y)\n",
    "    return line,\n",
    "\n",
    "# call the animator.  blit=True means only re-draw the parts that have changed.\n",
    "anim = animation.FuncAnimation(fig, animate, init_func=init,\n",
    "                               frames=len(gbest_history), interval=10000, blit=True)\n",
    "anim.save('basic_animation.gif', fps=30)\n",
    "plt.show()\n",
    "plt.close()\n",
    "\n"
   ]
  }
 ],
 "metadata": {
  "kernelspec": {
   "display_name": "Python 3",
   "language": "python",
   "name": "python3"
  },
  "language_info": {
   "codemirror_mode": {
    "name": "ipython",
    "version": 3
   },
   "file_extension": ".py",
   "mimetype": "text/x-python",
   "name": "python",
   "nbconvert_exporter": "python",
   "pygments_lexer": "ipython3",
   "version": "3.10.12"
  }
 },
 "nbformat": 4,
 "nbformat_minor": 2
}
