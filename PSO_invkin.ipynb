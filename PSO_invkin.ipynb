{
 "cells": [
  {
   "cell_type": "markdown",
   "metadata": {},
   "source": [
    "# Inverse kinematic in 2 dimension"
   ]
  },
  {
   "cell_type": "code",
   "execution_count": 8,
   "metadata": {},
   "outputs": [],
   "source": [
    "import numpy as np\n",
    "import matplotlib.pyplot as plt"
   ]
  },
  {
   "cell_type": "markdown",
   "metadata": {},
   "source": [
    "### 2 link robotic arm display"
   ]
  },
  {
   "cell_type": "code",
   "execution_count": 45,
   "metadata": {},
   "outputs": [],
   "source": [
    "def Display2linkarm(link1, link2, theta1, theta2):\n",
    "    #fix img size\n",
    "    fig = plt.figure()\n",
    "    ax = fig.add_subplot(111)\n",
    "    ax.set_aspect('equal')\n",
    "    #plot arm\n",
    "    x1=np.cos(theta1)*link1\n",
    "    y1=np.sin(theta1)*link1\n",
    "    x2=x1+np.cos(theta1+theta2)*link2\n",
    "    y2=y1+np.sin(theta1+theta2)*link2\n",
    "    plt.plot([0,x1],[0,y1])\n",
    "    plt.plot([x1,x2],[y1,y2])\n",
    "    plt.xlim(0,4)\n",
    "    plt.ylim(0,4)\n",
    "    #show grid\n",
    "    plt.grid(True)\n",
    "    plt.show()  \n",
    "  "
   ]
  },
  {
   "cell_type": "markdown",
   "metadata": {},
   "source": [
    "### N link robotic arm display"
   ]
  },
  {
   "cell_type": "code",
   "execution_count": null,
   "metadata": {},
   "outputs": [],
   "source": [
    "def DisplayNlinkarm(links, angles):\n",
    "    #fix img size\n",
    "    fig = plt.figure()\n",
    "    ax = fig.add_subplot(111)\n",
    "    ax.set_aspect('equal')\n",
    "    #plot arm\n",
    "    trasf=np.eye(3)\n",
    "    x=[0]\n",
    "    y=[0]\n",
    "    for i in range(len(links)):\n",
    "        new_trasf=[[np.cos(angles[i]),-np.sin(angles[i]),links[i]*np.cos(angles[i])],\n",
    "                [np.sin(angles[i]),np.cos(angles[i]),links[i]*np.sin(angles[i])],\n",
    "                [0,0,1]]\n",
    "        trasf=np.dot(trasf,new_trasf)\n",
    "        x.append(np.dot(trasf,[0,0,1])[0])\n",
    "        y.append(np.dot(trasf,[0,0,1])[1])\n",
    "    plt.plot(x,y)\n",
    "    #plt.xlim(0,4)\n",
    "    #plt.ylim(0,4)\n",
    "    #show grid\n",
    "    plt.grid(True)\n",
    "    plt.show()  "
   ]
  },
  {
   "cell_type": "code",
   "execution_count": 61,
   "metadata": {},
   "outputs": [],
   "source": [
    "def compute_end_pos(links, angles):\n",
    "    pos=np.array([0,0,1])\n",
    "    for i in range(len(links)-1,-1,-1):\n",
    "        c=np.cos(angles[i])\n",
    "        s=np.sin(angles[i])\n",
    "        A=np.array([[c,-s,links[i]*c],[s,c,links[i]*s],[0,0,1]])\n",
    "        pos=np.dot(A, pos)\n",
    "    return pos[:2]"
   ]
  },
  {
   "cell_type": "code",
   "execution_count": 65,
   "metadata": {},
   "outputs": [],
   "source": [
    "def PSO(links, target, pop_size, max_iter, w, c_soc, c_cog):\n",
    "    #initialize\n",
    "    dim=len(links)\n",
    "    pop=np.random.rand(pop_size,dim)*2*np.pi\n",
    "    vel=np.zeros((pop_size,dim))\n",
    "    pbest=pop.copy()\n",
    "    pbest_fit=np.zeros(pop_size)\n",
    "    gbest=pop[0].copy()\n",
    "    gbest_fit=1e10\n",
    "\n",
    "    #initialise pbest and gbest\n",
    "    for i in range(pop_size):\n",
    "        pbest_fit[i]=np.linalg.norm(compute_end_pos(links, pop[i])-target)\n",
    "        if pbest_fit[i]<gbest_fit:\n",
    "            gbest=pop[i].copy()\n",
    "            gbest_fit=pbest_fit[i]\n",
    "\n",
    "    #main loop\n",
    "    it=0\n",
    "    while it<max_iter:\n",
    "        for i in range(pop_size):\n",
    "            end_pos = compute_end_pos(links, pop[i])\n",
    "            fit=np.linalg.norm(end_pos-target)\n",
    "\n",
    "            if fit<pbest_fit[i]:\n",
    "                pbest[i]=pop[i].copy()\n",
    "                pbest_fit[i]=fit\n",
    "                if fit<gbest_fit:\n",
    "                    gbest=pop[i].copy()\n",
    "                    gbest_fit=fit\n",
    "                if fit<1e-3:\n",
    "                    return gbest\n",
    "                \n",
    "            vel[i]=w*vel[i]+c_soc*np.random.rand()*(gbest-pop[i])+c_cog*np.random.rand()*(pbest[i]-pop[i])\n",
    "            pop[i]+=vel[i]      \n",
    "            \n",
    "    return gbest"
   ]
  },
  {
   "cell_type": "markdown",
   "metadata": {},
   "source": [
    "## Test"
   ]
  },
  {
   "cell_type": "markdown",
   "metadata": {},
   "source": [
    "### 2 Dim"
   ]
  },
  {
   "cell_type": "code",
   "execution_count": 68,
   "metadata": {},
   "outputs": [],
   "source": [
    "final_pos = PSO([2,2], [1.73,3], 100, 1000, 0.5, 1, 1)"
   ]
  },
  {
   "cell_type": "code",
   "execution_count": 69,
   "metadata": {},
   "outputs": [
    {
     "data": {
      "image/png": "[encoded data removed]",
      "text/plain": [
       "<Figure size 640x480 with 1 Axes>"
      ]
     },
     "metadata": {},
     "output_type": "display_data"
    }
   ],
   "source": [
    "Display2linkarm(2, 2, final_pos[0], final_pos[1])\n"
   ]
  },
  {
   "cell_type": "markdown",
   "metadata": {},
   "source": [
    "### N link robotic arm"
   ]
  },
  {
   "cell_type": "code",
   "execution_count": 70,
   "metadata": {},
   "outputs": [],
   "source": [
    "final_pos = PSO([2,2,2], [1.73,3], 100, 1000, 0.5, 1, 1)"
   ]
  },
  {
   "cell_type": "code",
   "execution_count": 71,
   "metadata": {},
   "outputs": [
    {
     "data": {
      "image/png": "[encoded data removed]",
      "text/plain": [
       "<Figure size 640x480 with 1 Axes>"
      ]
     },
     "metadata": {},
     "output_type": "display_data"
    }
   ],
   "source": [
    "DisplayNlinkarm([2,2,2], final_pos)"
   ]
  }
 ],
 "metadata": {
  "kernelspec": {
   "display_name": "Python 3",
   "language": "python",
   "name": "python3"
  },
  "language_info": {
   "codemirror_mode": {
    "name": "ipython",
    "version": 3
   },
   "file_extension": ".py",
   "mimetype": "text/x-python",
   "name": "python",
   "nbconvert_exporter": "python",
   "pygments_lexer": "ipython3",
   "version": "3.10.12"
  }
 },
 "nbformat": 4,
 "nbformat_minor": 2
}
